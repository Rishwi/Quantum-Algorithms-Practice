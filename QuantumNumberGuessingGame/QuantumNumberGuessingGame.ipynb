{
  "nbformat": 4,
  "nbformat_minor": 0,
  "metadata": {
    "colab": {
      "name": "QuantumNumberGuessingGame.ipynb",
      "provenance": []
    },
    "kernelspec": {
      "name": "python3",
      "display_name": "Python 3"
    }
  },
  "cells": [
    {
      "cell_type": "code",
      "metadata": {
        "id": "75YExENVCs5D",
        "colab_type": "code",
        "colab": {}
      },
      "source": [
        "\"\"\"\n",
        "REQUIREMENTS: \n",
        "--------------\n",
        "1. Python\n",
        "2. Qiskit\n",
        "--------------\n",
        "You will get three chances to guess the number.\n",
        "ENJOY THE GAME!!!\n",
        "\"\"\"\n",
        "from qiskit import *\n",
        "\n",
        "def PlayGame():  \n",
        "  qc=QuantumCircuit(4,4)\n",
        "  qc.h(0)\n",
        "  qc.h(1)\n",
        "  qc.h(2)\n",
        "  qc.h(3)\n",
        "  qc.barrier()\n",
        "  qc.measure(0,0)\n",
        "  qc.measure(1,1)\n",
        "  qc.measure(2,2)\n",
        "  qc.measure(3,3)\n",
        "  #qc.draw(output='mpl')\n",
        "  backend = Aer.get_backend('qasm_simulator')\n",
        "  res = execute(qc, backend=backend, shots= 1024).result()\n",
        "  counts = res.get_counts()\n",
        "  from qiskit.visualization import plot_histogram\n",
        "  #plot_histogram(counts)\n",
        "  max_key = max(counts, key=counts.get)\n",
        "  d=int(max_key,2)\n",
        "  print(\"Hey User guess the hidden secret number: \")\n",
        "  n= int(input())\n",
        "  for i in range(0,3):\n",
        "    if d==n:\n",
        "      print(\"Congratulations, you won!!!\".upper())\n",
        "      break\n",
        "    else:\n",
        "      if i<2:\n",
        "        print(\"No thats a wrong a guess. Please Try Again!\\nYou have \"+str(2-i)+ \" more chances.\")\n",
        "      else:\n",
        "        print(\"Game Over You Lose!!!\".upper())\n",
        "        break\n",
        "    n=int(input())\n",
        "\n",
        "\n",
        "PlayGame()"
      ],
      "execution_count": 0,
      "outputs": []
    }
  ]
}