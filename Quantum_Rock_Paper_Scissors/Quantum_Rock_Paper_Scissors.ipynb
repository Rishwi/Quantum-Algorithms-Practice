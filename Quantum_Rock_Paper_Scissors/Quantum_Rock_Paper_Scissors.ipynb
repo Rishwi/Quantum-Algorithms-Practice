{
  "nbformat": 4,
  "nbformat_minor": 0,
  "metadata": {
    "colab": {
      "name": "Quantum_Rock_Paper_Scissors.ipynb",
      "provenance": []
    },
    "kernelspec": {
      "name": "python3",
      "display_name": "Python 3"
    }
  },
  "cells": [
    {
      "cell_type": "code",
      "metadata": {
        "id": "p9wKR3z5DN7D",
        "colab_type": "code",
        "colab": {}
      },
      "source": [
        "pip install qiskit"
      ],
      "execution_count": 0,
      "outputs": []
    },
    {
      "cell_type": "code",
      "metadata": {
        "id": "cgTfOKNCDTn4",
        "colab_type": "code",
        "colab": {
          "base_uri": "https://localhost:8080/",
          "height": 231
        },
        "outputId": "7d111c55-1a8f-411b-d360-3b3ea820a6b9"
      },
      "source": [
        "from qiskit import *\n",
        "from qiskit.visualization import plot_histogram\n",
        "\n",
        "qc = QuantumCircuit(3,3)\n",
        "qc.h(0)\n",
        "qc.cx(0,1)\n",
        "qc.cx(1,2)\n",
        "qc.h(1)\n",
        "qc.h(2)\n",
        "qc.barrier()\n",
        "qc.measure(0,0)\n",
        "qc.measure(1,1)\n",
        "qc.measure(2,2)\n",
        "qc.draw(output='mpl')  "
      ],
      "execution_count": 33,
      "outputs": [
        {
          "output_type": "execute_result",
          "data": {
            "image/png": "[encoded data removed]",
            "text/plain": [
              "<Figure size 659.792x264.88 with 1 Axes>"
            ]
          },
          "metadata": {
            "tags": []
          },
          "execution_count": 33
        }
      ]
    },
    {
      "cell_type": "code",
      "metadata": {
        "id": "Os2Rn1njEfUS",
        "colab_type": "code",
        "colab": {
          "base_uri": "https://localhost:8080/",
          "height": 1000
        },
        "outputId": "03bd0fd7-7af3-46b4-f878-a29850682e6b"
      },
      "source": [
        "#This is the main cell to be executed, after executing the above two cells.\n",
        "\n",
        "backend=Aer.get_backend('qasm_simulator')\n",
        "player=0\n",
        "computer=0\n",
        "nite=int(input(\"Enter no of rounds: \"))\n",
        "ite=0\n",
        "l=['Rock','Paper','Scisors']\n",
        "while ite < nite:\n",
        "  res = execute(qc, backend, shots=1024).result()\n",
        "  counts = res.get_counts()\n",
        "  #print(counts)\n",
        "  #plot_histogram(counts)\n",
        "  dicto = {}\n",
        "  for i,j in counts.items():\n",
        "    if i in ['001','100','010']:\n",
        "      dicto[i]=j\n",
        "  #print(dicto)\n",
        "  turn=1\n",
        "  k = max(dicto.values())\n",
        "  for i,j in dicto.items():\n",
        "    if dicto[i]==k:\n",
        "      rps=i\n",
        "      break;\n",
        "  if rps=='100':\n",
        "    turn=1\n",
        "  elif rps=='010':\n",
        "    turn=2\n",
        "  elif rps=='001':\n",
        "    turn=3\n",
        "\n",
        "  print(\"I did drop my hand first tell me your output:\\n1.ROCK\\n2. PAPER\\n3. SCISSORS\")\n",
        "  n=int(input())\n",
        "  print('my choice was '+l[turn-1])\n",
        "  if turn==1:\n",
        "    if n==1:\n",
        "      print(\"We both chose Rock, let's cancel this turn\\n\")\n",
        "    elif n==2:\n",
        "      player=player+1\n",
        "      ite=ite+1\n",
        "    elif n==3:\n",
        "      computer = computer+1\n",
        "      ite=ite+1\n",
        "  elif turn==2:\n",
        "    if n==1:\n",
        "      computer=computer+1\n",
        "      ite=ite+1\n",
        "    elif n==2:\n",
        "      print(\"We both chose Paper, let's cancel this turn\\n\")\n",
        "    elif n==3:\n",
        "      player=player+1\n",
        "      ite=ite+1\n",
        "  elif turn==3:\n",
        "    if n==1:\n",
        "      player=player+1\n",
        "      ite=ite+1\n",
        "    elif n==2:\n",
        "      computer=computer+1\n",
        "      ite=ite+1\n",
        "    elif n==3:\n",
        "      print(\"We both chose Paper, let's cancel this turn\\n\")\n",
        "  print(\"\\n\\n\\tPoints\\n------------------------\\n\\tplayer = \"+str(player)+\"\\n\\tcomputer = \"+str(computer)+\"\\n\\n\")\n",
        "\n",
        "\n",
        "if player>computer:\n",
        "  print(\"YOU WON...I'll try to beat you next time.\")\n",
        "else:\n",
        "  print(\"BETTER LUCK NEXT TIME, Cuz i got you this time.\")"
      ],
      "execution_count": 37,
      "outputs": [
        {
          "output_type": "stream",
          "text": [
            "Enter no of rounds: 3\n",
            "I did drop my hand first tell me your output:\n",
            "1.ROCK\n",
            "2. PAPER\n",
            "3. SCISSORS\n",
            "1\n",
            "my choice was Scisors\n",
            "\n",
            "\n",
            "\tPoints\n",
            "------------------------\n",
            "\tplayer = 1\n",
            "\tcomputer = 0\n",
            "\n",
            "\n",
            "I did drop my hand first tell me your output:\n",
            "1.ROCK\n",
            "2. PAPER\n",
            "3. SCISSORS\n",
            "1\n",
            "my choice was Rock\n",
            "We both chose Rock, let's cancel this turn\n",
            "\n",
            "\n",
            "\n",
            "\tPoints\n",
            "------------------------\n",
            "\tplayer = 1\n",
            "\tcomputer = 0\n",
            "\n",
            "\n",
            "I did drop my hand first tell me your output:\n",
            "1.ROCK\n",
            "2. PAPER\n",
            "3. SCISSORS\n",
            "1\n",
            "my choice was Scisors\n",
            "\n",
            "\n",
            "\tPoints\n",
            "------------------------\n",
            "\tplayer = 2\n",
            "\tcomputer = 0\n",
            "\n",
            "\n",
            "I did drop my hand first tell me your output:\n",
            "1.ROCK\n",
            "2. PAPER\n",
            "3. SCISSORS\n",
            "1\n",
            "my choice was Paper\n",
            "\n",
            "\n",
            "\tPoints\n",
            "------------------------\n",
            "\tplayer = 2\n",
            "\tcomputer = 1\n",
            "\n",
            "\n",
            "YOU WON...I'll try to beat you next time.\n"
          ],
          "name": "stdout"
        }
      ]
    }
  ]
}