{
  "nbformat": 4,
  "nbformat_minor": 0,
  "metadata": {
    "colab": {
      "name": "2020_qprac.ipynb",
      "provenance": []
    },
    "kernelspec": {
      "name": "python3",
      "display_name": "Python 3"
    }
  },
  "cells": [
    {
      "cell_type": "code",
      "metadata": {
        "id": "m0zJyfX1kbZN",
        "colab_type": "code",
        "colab": {}
      },
      "source": [
        "from qiskit import *\n",
        "from qiskit.visualization import plot_histogram"
      ],
      "execution_count": 0,
      "outputs": []
    },
    {
      "cell_type": "code",
      "metadata": {
        "id": "EV8IO4UBlLt-",
        "colab_type": "code",
        "colab": {
          "base_uri": "https://localhost:8080/",
          "height": 36
        },
        "outputId": "135331fd-ac80-4617-c438-93be5bcfcf0c"
      },
      "source": [
        "#z measurement\n",
        "mz = QuantumCircuit(1,1)\n",
        "mz.measure(0,0)\n",
        "\n",
        "#x measurement\n",
        "mx = QuantumCircuit(1,1)\n",
        "mx.h(0)\n",
        "mx.measure(0,0)"
      ],
      "execution_count": 4,
      "outputs": [
        {
          "output_type": "execute_result",
          "data": {
            "text/plain": [
              "<qiskit.circuit.instructionset.InstructionSet at 0x7f010a42f630>"
            ]
          },
          "metadata": {
            "tags": []
          },
          "execution_count": 4
        }
      ]
    },
    {
      "cell_type": "code",
      "metadata": {
        "id": "6ckFju8WmMPg",
        "colab_type": "code",
        "colab": {
          "base_uri": "https://localhost:8080/",
          "height": 36
        },
        "outputId": "c03aaf50-d8fa-45e2-95db-583993f72b4b"
      },
      "source": [
        "qc=QuantumCircuit(1)\n",
        "qc.h(0)\n",
        "qc.x(0)\n",
        "qc.y(0)\n",
        "qc.z(0)\n",
        "qc.ry(3.1415/2,0)\n",
        "qc.ry(3.1415/4,0)"
      ],
      "execution_count": 7,
      "outputs": [
        {
          "output_type": "execute_result",
          "data": {
            "text/plain": [
              "<qiskit.circuit.instructionset.InstructionSet at 0x7f010a42f898>"
            ]
          },
          "metadata": {
            "tags": []
          },
          "execution_count": 7
        }
      ]
    },
    {
      "cell_type": "code",
      "metadata": {
        "id": "Z2HFMm9dngxr",
        "colab_type": "code",
        "colab": {
          "base_uri": "https://localhost:8080/",
          "height": 36
        },
        "outputId": "38268859-515f-4d32-d7b7-916966ced6f6"
      },
      "source": [
        "# uncertainity measurement\n",
        "\n",
        "shots = 2**14\n",
        "uncertainity = 0\n",
        "\n",
        "for mc in [mz,mx]:\n",
        "  counts=execute(qc+mc,Aer.get_backend('qasm_simulator'), shots=shots).result().get_counts()\n",
        "  probs = {}\n",
        "  for i in ['0','1']:\n",
        "    if i in counts:\n",
        "      probs[i]=counts[i]/shots\n",
        "    else:\n",
        "      probs[i]=0\n",
        "  uncertainity += (probs['0']-probs['1'])**2\n",
        "print(\"total uncertainity: \", uncertainity)"
      ],
      "execution_count": 9,
      "outputs": [
        {
          "output_type": "stream",
          "text": [
            "total uncertainity:  0.9946414530277252\n"
          ],
          "name": "stdout"
        }
      ]
    }
  ]
}