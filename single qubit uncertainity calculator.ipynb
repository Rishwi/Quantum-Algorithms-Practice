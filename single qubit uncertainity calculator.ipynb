{
  "nbformat": 4,
  "nbformat_minor": 0,
  "metadata": {
    "colab": {
      "name": "2020_qprac.ipynb",
      "provenance": []
    },
    "kernelspec": {
      "name": "python3",
      "display_name": "Python 3"
    }
  },
  "cells": [
    {
      "cell_type": "code",
      "metadata": {
        "id": "m0zJyfX1kbZN",
        "colab_type": "code",
        "colab": {}
      },
      "source": [
        "from qiskit import *\n",
        "from qiskit.visualization import plot_histogram"
      ],
      "execution_count": 0,
      "outputs": []
    },
    {
      "cell_type": "code",
      "metadata": {
        "id": "EV8IO4UBlLt-",
        "colab_type": "code",
        "colab": {}
      },
      "source": [
        "#z measurement\n",
        "mz = QuantumCircuit(1,1)\n",
        "mz.measure(0,0)\n",
        "\n",
        "#x measurement\n",
        "mx = QuantumCircuit(1,1)\n",
        "mx.h(0)\n",
        "mx.measure(0,0)\n",
        "\n",
        "#y measurement\n",
        "my = QuantumCircuit(1,1)\n",
        "my.sdg(0)\n",
        "my.h(0)\n",
        "my.measure(0,0);"
      ],
      "execution_count": 0,
      "outputs": []
    },
    {
      "cell_type": "code",
      "metadata": {
        "id": "6ckFju8WmMPg",
        "colab_type": "code",
        "colab": {
          "base_uri": "https://localhost:8080/",
          "height": 36
        },
        "outputId": "6b78f68d-d5fc-465d-8d0d-d5ab331c58ab"
      },
      "source": [
        "# change this circuit as you like. add or remove gates.\n",
        "\n",
        "qc=QuantumCircuit(1)\n",
        "qc.h(0)\n",
        "qc.x(0)\n",
        "qc.y(0)\n",
        "qc.z(0)\n",
        "qc.ry(3.1415/2,0)\n",
        "qc.ry(3.1415/4,0)"
      ],
      "execution_count": 14,
      "outputs": [
        {
          "output_type": "execute_result",
          "data": {
            "text/plain": [
              "<qiskit.circuit.instructionset.InstructionSet at 0x7f010a2a63c8>"
            ]
          },
          "metadata": {
            "tags": []
          },
          "execution_count": 14
        }
      ]
    },
    {
      "cell_type": "code",
      "metadata": {
        "id": "Z2HFMm9dngxr",
        "colab_type": "code",
        "colab": {
          "base_uri": "https://localhost:8080/",
          "height": 36
        },
        "outputId": "23694876-fc1e-4b52-df60-e8c8e4fd6300"
      },
      "source": [
        "# uncertainity measurement for x basis (using z and x measearuments)\n",
        "\n",
        "shots = 2**14\n",
        "uncertainity = 0\n",
        "\n",
        "for mc in [mz,mx]:\n",
        "  counts=execute(qc+mc,Aer.get_backend('qasm_simulator'), shots=shots).result().get_counts()\n",
        "  probs = {}\n",
        "  for i in ['0','1']:\n",
        "    if i in counts:\n",
        "      probs[i]=counts[i]/shots\n",
        "    else:\n",
        "      probs[i]=0\n",
        "  uncertainity += (probs['0']-probs['1'])**2\n",
        "print(\"total uncertainity: \", uncertainity)"
      ],
      "execution_count": 15,
      "outputs": [
        {
          "output_type": "stream",
          "text": [
            "total uncertainity:  0.9898033738136292\n"
          ],
          "name": "stdout"
        }
      ]
    },
    {
      "cell_type": "code",
      "metadata": {
        "id": "nEym_uNDtwqq",
        "colab_type": "code",
        "colab": {
          "base_uri": "https://localhost:8080/",
          "height": 36
        },
        "outputId": "09e8d2e8-0f73-4123-f620-d64da2beadfc"
      },
      "source": [
        "# uncertainity measurement for y basis (using z, x and y measearuments)\n",
        "\n",
        "shots = 2**14\n",
        "uncertainity = 0\n",
        "\n",
        "for mc in [mz,mx,my]:\n",
        "  counts=execute(qc+mc,Aer.get_backend('qasm_simulator'), shots=shots).result().get_counts()\n",
        "  probs = {}\n",
        "  for i in ['0','1']:\n",
        "    if i in counts:\n",
        "      probs[i]=counts[i]/shots\n",
        "    else:\n",
        "      probs[i]=0\n",
        "  uncertainity += (probs['0']-probs['1'])**2\n",
        "print(\"total uncertainity: \", uncertainity)"
      ],
      "execution_count": 16,
      "outputs": [
        {
          "output_type": "stream",
          "text": [
            "total uncertainity:  1.0103724747896194\n"
          ],
          "name": "stdout"
        }
      ]
    }
  ]
}